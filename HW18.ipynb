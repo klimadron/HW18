{
 "cells": [
  {
   "cell_type": "code",
   "execution_count": 1,
   "id": "ba3b973f-fa38-450d-b638-948060492521",
   "metadata": {
    "tags": []
   },
   "outputs": [
    {
     "name": "stdout",
     "output_type": "stream",
     "text": [
      "Hello World\n"
     ]
    }
   ],
   "source": [
    "print(\"Hello World\")"
   ]
  },
  {
   "cell_type": "code",
   "execution_count": 2,
   "id": "9170424d-1ba4-4a09-9cee-f5c93e13b02b",
   "metadata": {
    "tags": []
   },
   "outputs": [
    {
     "name": "stdout",
     "output_type": "stream",
     "text": [
      "https://youtufdbe.com Not 200\n",
      "https://ukr.net/21312 Not 200\n",
      "http://google.com/404 Not 200\n",
      "httdsp://youtube.com Not 200\n",
      "http://google.codsadam/sdsad Not 200\n"
     ]
    }
   ],
   "source": [
    "import requests\n",
    "def get_status(sites):\n",
    "    for x in sites:\n",
    "        try:\n",
    "            response = requests.get(x)\n",
    "            response.raise_for_status()\n",
    "            if response.status_code == 200:\n",
    "                continue\n",
    "        except:print(x,\"Not 200\")\n",
    "urls = [\"http://google.com\",\"https://youtufdbe.com\", \"https://ukr.net/21312\", \"http://google.com/404\", \"httdsp://youtube.com\" ,\"http://google.com\", \"http://youtube.com\", \"http://google.codsadam/sdsad\"]\n",
    "get_status(urls)"
   ]
  },
  {
   "cell_type": "code",
   "execution_count": null,
   "id": "c2d0e889-665d-43e9-b8cd-8203255e97cc",
   "metadata": {
    "tags": []
   },
   "outputs": [],
   "source": []
  }
 ],
 "metadata": {
  "kernelspec": {
   "display_name": "Python 3 (ipykernel)",
   "language": "python",
   "name": "python3"
  },
  "language_info": {
   "codemirror_mode": {
    "name": "ipython",
    "version": 3
   },
   "file_extension": ".py",
   "mimetype": "text/x-python",
   "name": "python",
   "nbconvert_exporter": "python",
   "pygments_lexer": "ipython3",
   "version": "3.10.6"
  }
 },
 "nbformat": 4,
 "nbformat_minor": 5
}
